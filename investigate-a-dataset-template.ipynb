{
 "cells": [
  {
   "cell_type": "markdown",
   "metadata": {},
   "source": [
    "# Project: Investigate a Dataset (No-show appointments)\n",
    "\n",
    "## Table of Contents\n",
    "<ul>\n",
    "<li><a href=\"#intro\">Introduction</a></li>\n",
    "<li><a href=\"#wrangling\">Data Wrangling</a></li>\n",
    "<li><a href=\"#eda\">Exploratory Data Analysis</a></li>\n",
    "<li><a href=\"#rq1\">Research Question 1</a></li>\n",
    "<li><a href=\"#rq2\">Research Question 2</a></li><li><a href=\"#conclusions\">Conclusions</a></li>\n",
    "</ul>"
   ]
  },
  {
   "cell_type": "markdown",
   "metadata": {},
   "source": [
    "# <a id='intro'></a>\n",
    "## Introduction\n",
    "\n",
    "* This dataset collects information from 100k medical appointments in Brazil and is focused on the question of whether or not patients show up for their appointment. A number of characteristics about the patient are included in each row.\n",
    "\n",
    "* ‘ScheduledDay’ tells us on what day the patient set up their appointment.\n",
    "* ‘Neighborhood’ indicates the location of the hospital.\n",
    "* ‘Scholarship’ indicates whether or not the patient is enrolled in Brasilian welfare program Bolsa Família.\n",
    "* In the last column: it says ‘No’ if the patient showed up to their appointment, and ‘Yes’ if they did not show up.\n",
    "\n",
    "* Questions that are explored in this project:\n",
    "\n",
    "> How the following factors affect if a patient will show up for their scheduled appointment or not:\n",
    "\n",
    ">> Gender\n",
    "\n",
    ">> Day of the week of the appointment\n",
    "\n",
    ">> Age\n",
    "\n",
    ">> Neighbourhood\n",
    "\n",
    ">> Having enrollment in Brasilian welfare program Bolsa Família (or Scholarship)\n",
    "\n",
    ">> Having Hypertension\n",
    "\n",
    ">> Having Diabetes\n",
    "\n",
    ">> Alcoholism\n",
    "\n",
    ">> Handicap\n",
    "\n",
    ">> SMS alert recieved\t\n",
    "\n",
    "> Show a visulaization for the dataset."
   ]
  },
  {
   "cell_type": "code",
   "execution_count": 1,
   "metadata": {},
   "outputs": [],
   "source": [
    "import numpy as np\n",
    "import pandas as pd\n",
    "import matplotlib.pyplot as plt\n",
    "%matplotlib inline"
   ]
  },
  {
   "cell_type": "markdown",
   "metadata": {},
   "source": [
    "<a id='wrangling'></a>\n",
    "## Data Wrangling\n",
    "### General Properties"
   ]
  },
  {
   "cell_type": "code",
   "execution_count": 2,
   "metadata": {},
   "outputs": [
    {
     "data": {
      "text/html": [
       "<div>\n",
       "<style scoped>\n",
       "    .dataframe tbody tr th:only-of-type {\n",
       "        vertical-align: middle;\n",
       "    }\n",
       "\n",
       "    .dataframe tbody tr th {\n",
       "        vertical-align: top;\n",
       "    }\n",
       "\n",
       "    .dataframe thead th {\n",
       "        text-align: right;\n",
       "    }\n",
       "</style>\n",
       "<table border=\"1\" class=\"dataframe\">\n",
       "  <thead>\n",
       "    <tr style=\"text-align: right;\">\n",
       "      <th></th>\n",
       "      <th>PatientId</th>\n",
       "      <th>AppointmentID</th>\n",
       "      <th>Gender</th>\n",
       "      <th>ScheduledDay</th>\n",
       "      <th>AppointmentDay</th>\n",
       "      <th>Age</th>\n",
       "      <th>Neighbourhood</th>\n",
       "      <th>Scholarship</th>\n",
       "      <th>Hipertension</th>\n",
       "      <th>Diabetes</th>\n",
       "      <th>Alcoholism</th>\n",
       "      <th>Handcap</th>\n",
       "      <th>SMS_received</th>\n",
       "      <th>No-show</th>\n",
       "    </tr>\n",
       "  </thead>\n",
       "  <tbody>\n",
       "    <tr>\n",
       "      <th>0</th>\n",
       "      <td>2.987250e+13</td>\n",
       "      <td>5642903</td>\n",
       "      <td>F</td>\n",
       "      <td>2016-04-29T18:38:08Z</td>\n",
       "      <td>2016-04-29T00:00:00Z</td>\n",
       "      <td>62</td>\n",
       "      <td>JARDIM DA PENHA</td>\n",
       "      <td>0</td>\n",
       "      <td>1</td>\n",
       "      <td>0</td>\n",
       "      <td>0</td>\n",
       "      <td>0</td>\n",
       "      <td>0</td>\n",
       "      <td>No</td>\n",
       "    </tr>\n",
       "    <tr>\n",
       "      <th>1</th>\n",
       "      <td>5.589978e+14</td>\n",
       "      <td>5642503</td>\n",
       "      <td>M</td>\n",
       "      <td>2016-04-29T16:08:27Z</td>\n",
       "      <td>2016-04-29T00:00:00Z</td>\n",
       "      <td>56</td>\n",
       "      <td>JARDIM DA PENHA</td>\n",
       "      <td>0</td>\n",
       "      <td>0</td>\n",
       "      <td>0</td>\n",
       "      <td>0</td>\n",
       "      <td>0</td>\n",
       "      <td>0</td>\n",
       "      <td>No</td>\n",
       "    </tr>\n",
       "    <tr>\n",
       "      <th>2</th>\n",
       "      <td>4.262962e+12</td>\n",
       "      <td>5642549</td>\n",
       "      <td>F</td>\n",
       "      <td>2016-04-29T16:19:04Z</td>\n",
       "      <td>2016-04-29T00:00:00Z</td>\n",
       "      <td>62</td>\n",
       "      <td>MATA DA PRAIA</td>\n",
       "      <td>0</td>\n",
       "      <td>0</td>\n",
       "      <td>0</td>\n",
       "      <td>0</td>\n",
       "      <td>0</td>\n",
       "      <td>0</td>\n",
       "      <td>No</td>\n",
       "    </tr>\n",
       "    <tr>\n",
       "      <th>3</th>\n",
       "      <td>8.679512e+11</td>\n",
       "      <td>5642828</td>\n",
       "      <td>F</td>\n",
       "      <td>2016-04-29T17:29:31Z</td>\n",
       "      <td>2016-04-29T00:00:00Z</td>\n",
       "      <td>8</td>\n",
       "      <td>PONTAL DE CAMBURI</td>\n",
       "      <td>0</td>\n",
       "      <td>0</td>\n",
       "      <td>0</td>\n",
       "      <td>0</td>\n",
       "      <td>0</td>\n",
       "      <td>0</td>\n",
       "      <td>No</td>\n",
       "    </tr>\n",
       "    <tr>\n",
       "      <th>4</th>\n",
       "      <td>8.841186e+12</td>\n",
       "      <td>5642494</td>\n",
       "      <td>F</td>\n",
       "      <td>2016-04-29T16:07:23Z</td>\n",
       "      <td>2016-04-29T00:00:00Z</td>\n",
       "      <td>56</td>\n",
       "      <td>JARDIM DA PENHA</td>\n",
       "      <td>0</td>\n",
       "      <td>1</td>\n",
       "      <td>1</td>\n",
       "      <td>0</td>\n",
       "      <td>0</td>\n",
       "      <td>0</td>\n",
       "      <td>No</td>\n",
       "    </tr>\n",
       "  </tbody>\n",
       "</table>\n",
       "</div>"
      ],
      "text/plain": [
       "      PatientId  AppointmentID Gender          ScheduledDay  \\\n",
       "0  2.987250e+13        5642903      F  2016-04-29T18:38:08Z   \n",
       "1  5.589978e+14        5642503      M  2016-04-29T16:08:27Z   \n",
       "2  4.262962e+12        5642549      F  2016-04-29T16:19:04Z   \n",
       "3  8.679512e+11        5642828      F  2016-04-29T17:29:31Z   \n",
       "4  8.841186e+12        5642494      F  2016-04-29T16:07:23Z   \n",
       "\n",
       "         AppointmentDay  Age      Neighbourhood  Scholarship  Hipertension  \\\n",
       "0  2016-04-29T00:00:00Z   62    JARDIM DA PENHA            0             1   \n",
       "1  2016-04-29T00:00:00Z   56    JARDIM DA PENHA            0             0   \n",
       "2  2016-04-29T00:00:00Z   62      MATA DA PRAIA            0             0   \n",
       "3  2016-04-29T00:00:00Z    8  PONTAL DE CAMBURI            0             0   \n",
       "4  2016-04-29T00:00:00Z   56    JARDIM DA PENHA            0             1   \n",
       "\n",
       "   Diabetes  Alcoholism  Handcap  SMS_received No-show  \n",
       "0         0           0        0             0      No  \n",
       "1         0           0        0             0      No  \n",
       "2         0           0        0             0      No  \n",
       "3         0           0        0             0      No  \n",
       "4         1           0        0             0      No  "
      ]
     },
     "execution_count": 2,
     "metadata": {},
     "output_type": "execute_result"
    }
   ],
   "source": [
    "# Reading Data\n",
    "df = pd.read_csv(\"noshowappointments-kagglev2-may-2016.csv\")\n",
    "# Displaying Head\n",
    "df.head()"
   ]
  },
  {
   "cell_type": "markdown",
   "metadata": {},
   "source": [
    "### Data Cleaning"
   ]
  },
  {
   "cell_type": "code",
   "execution_count": 3,
   "metadata": {},
   "outputs": [
    {
     "name": "stdout",
     "output_type": "stream",
     "text": [
      "<class 'pandas.core.frame.DataFrame'>\n",
      "RangeIndex: 110527 entries, 0 to 110526\n",
      "Data columns (total 14 columns):\n",
      "PatientId         110527 non-null float64\n",
      "AppointmentID     110527 non-null int64\n",
      "Gender            110527 non-null object\n",
      "ScheduledDay      110527 non-null object\n",
      "AppointmentDay    110527 non-null object\n",
      "Age               110527 non-null int64\n",
      "Neighbourhood     110527 non-null object\n",
      "Scholarship       110527 non-null int64\n",
      "Hipertension      110527 non-null int64\n",
      "Diabetes          110527 non-null int64\n",
      "Alcoholism        110527 non-null int64\n",
      "Handcap           110527 non-null int64\n",
      "SMS_received      110527 non-null int64\n",
      "No-show           110527 non-null object\n",
      "dtypes: float64(1), int64(8), object(5)\n",
      "memory usage: 11.8+ MB\n"
     ]
    }
   ],
   "source": [
    "df.info()"
   ]
  },
  {
   "cell_type": "markdown",
   "metadata": {},
   "source": [
    "* Size of the dataset is 110527 entries\n",
    "* None of the column have missing values\n",
    "* Standardizing the date and time &\n",
    "* Adding a column named day of the week"
   ]
  },
  {
   "cell_type": "code",
   "execution_count": 4,
   "metadata": {},
   "outputs": [
    {
     "name": "stdout",
     "output_type": "stream",
     "text": [
      "0   2016-04-29 18:38:08\n",
      "1   2016-04-29 16:08:27\n",
      "2   2016-04-29 16:19:04\n",
      "3   2016-04-29 17:29:31\n",
      "4   2016-04-29 16:07:23\n",
      "Name: ScheduledDay, dtype: datetime64[ns]\n",
      "0   2016-04-29\n",
      "1   2016-04-29\n",
      "2   2016-04-29\n",
      "3   2016-04-29\n",
      "4   2016-04-29\n",
      "Name: AppointmentDay, dtype: datetime64[ns]\n",
      "0    Friday\n",
      "1    Friday\n",
      "2    Friday\n",
      "3    Friday\n",
      "4    Friday\n",
      "Name: DayofTheWeek, dtype: object\n"
     ]
    }
   ],
   "source": [
    "df['ScheduledDay'] = df['ScheduledDay'].apply(np.datetime64)\n",
    "df['AppointmentDay'] = df['AppointmentDay'].apply(np.datetime64)\n",
    "df['DayofTheWeek'] = df['AppointmentDay'].dt.weekday_name\n",
    "print df['ScheduledDay'].head()\n",
    "print df['AppointmentDay'].head()\n",
    "print df['DayofTheWeek'].head()"
   ]
  },
  {
   "cell_type": "code",
   "execution_count": 5,
   "metadata": {},
   "outputs": [
    {
     "data": {
      "text/html": [
       "<div>\n",
       "<style scoped>\n",
       "    .dataframe tbody tr th:only-of-type {\n",
       "        vertical-align: middle;\n",
       "    }\n",
       "\n",
       "    .dataframe tbody tr th {\n",
       "        vertical-align: top;\n",
       "    }\n",
       "\n",
       "    .dataframe thead th {\n",
       "        text-align: right;\n",
       "    }\n",
       "</style>\n",
       "<table border=\"1\" class=\"dataframe\">\n",
       "  <thead>\n",
       "    <tr style=\"text-align: right;\">\n",
       "      <th></th>\n",
       "      <th>PatientId</th>\n",
       "      <th>AppointmentID</th>\n",
       "      <th>Age</th>\n",
       "      <th>Scholarship</th>\n",
       "      <th>Hipertension</th>\n",
       "      <th>Diabetes</th>\n",
       "      <th>Alcoholism</th>\n",
       "      <th>Handcap</th>\n",
       "      <th>SMS_received</th>\n",
       "    </tr>\n",
       "  </thead>\n",
       "  <tbody>\n",
       "    <tr>\n",
       "      <th>count</th>\n",
       "      <td>1.105270e+05</td>\n",
       "      <td>1.105270e+05</td>\n",
       "      <td>110527.000000</td>\n",
       "      <td>110527.000000</td>\n",
       "      <td>110527.000000</td>\n",
       "      <td>110527.000000</td>\n",
       "      <td>110527.000000</td>\n",
       "      <td>110527.000000</td>\n",
       "      <td>110527.000000</td>\n",
       "    </tr>\n",
       "    <tr>\n",
       "      <th>mean</th>\n",
       "      <td>1.474963e+14</td>\n",
       "      <td>5.675305e+06</td>\n",
       "      <td>37.088874</td>\n",
       "      <td>0.098266</td>\n",
       "      <td>0.197246</td>\n",
       "      <td>0.071865</td>\n",
       "      <td>0.030400</td>\n",
       "      <td>0.022248</td>\n",
       "      <td>0.321026</td>\n",
       "    </tr>\n",
       "    <tr>\n",
       "      <th>std</th>\n",
       "      <td>2.560949e+14</td>\n",
       "      <td>7.129575e+04</td>\n",
       "      <td>23.110205</td>\n",
       "      <td>0.297675</td>\n",
       "      <td>0.397921</td>\n",
       "      <td>0.258265</td>\n",
       "      <td>0.171686</td>\n",
       "      <td>0.161543</td>\n",
       "      <td>0.466873</td>\n",
       "    </tr>\n",
       "    <tr>\n",
       "      <th>min</th>\n",
       "      <td>3.921784e+04</td>\n",
       "      <td>5.030230e+06</td>\n",
       "      <td>-1.000000</td>\n",
       "      <td>0.000000</td>\n",
       "      <td>0.000000</td>\n",
       "      <td>0.000000</td>\n",
       "      <td>0.000000</td>\n",
       "      <td>0.000000</td>\n",
       "      <td>0.000000</td>\n",
       "    </tr>\n",
       "    <tr>\n",
       "      <th>25%</th>\n",
       "      <td>4.172614e+12</td>\n",
       "      <td>5.640286e+06</td>\n",
       "      <td>18.000000</td>\n",
       "      <td>0.000000</td>\n",
       "      <td>0.000000</td>\n",
       "      <td>0.000000</td>\n",
       "      <td>0.000000</td>\n",
       "      <td>0.000000</td>\n",
       "      <td>0.000000</td>\n",
       "    </tr>\n",
       "    <tr>\n",
       "      <th>50%</th>\n",
       "      <td>3.173184e+13</td>\n",
       "      <td>5.680573e+06</td>\n",
       "      <td>37.000000</td>\n",
       "      <td>0.000000</td>\n",
       "      <td>0.000000</td>\n",
       "      <td>0.000000</td>\n",
       "      <td>0.000000</td>\n",
       "      <td>0.000000</td>\n",
       "      <td>0.000000</td>\n",
       "    </tr>\n",
       "    <tr>\n",
       "      <th>75%</th>\n",
       "      <td>9.439172e+13</td>\n",
       "      <td>5.725524e+06</td>\n",
       "      <td>55.000000</td>\n",
       "      <td>0.000000</td>\n",
       "      <td>0.000000</td>\n",
       "      <td>0.000000</td>\n",
       "      <td>0.000000</td>\n",
       "      <td>0.000000</td>\n",
       "      <td>1.000000</td>\n",
       "    </tr>\n",
       "    <tr>\n",
       "      <th>max</th>\n",
       "      <td>9.999816e+14</td>\n",
       "      <td>5.790484e+06</td>\n",
       "      <td>115.000000</td>\n",
       "      <td>1.000000</td>\n",
       "      <td>1.000000</td>\n",
       "      <td>1.000000</td>\n",
       "      <td>1.000000</td>\n",
       "      <td>4.000000</td>\n",
       "      <td>1.000000</td>\n",
       "    </tr>\n",
       "  </tbody>\n",
       "</table>\n",
       "</div>"
      ],
      "text/plain": [
       "          PatientId  AppointmentID            Age    Scholarship  \\\n",
       "count  1.105270e+05   1.105270e+05  110527.000000  110527.000000   \n",
       "mean   1.474963e+14   5.675305e+06      37.088874       0.098266   \n",
       "std    2.560949e+14   7.129575e+04      23.110205       0.297675   \n",
       "min    3.921784e+04   5.030230e+06      -1.000000       0.000000   \n",
       "25%    4.172614e+12   5.640286e+06      18.000000       0.000000   \n",
       "50%    3.173184e+13   5.680573e+06      37.000000       0.000000   \n",
       "75%    9.439172e+13   5.725524e+06      55.000000       0.000000   \n",
       "max    9.999816e+14   5.790484e+06     115.000000       1.000000   \n",
       "\n",
       "        Hipertension       Diabetes     Alcoholism        Handcap  \\\n",
       "count  110527.000000  110527.000000  110527.000000  110527.000000   \n",
       "mean        0.197246       0.071865       0.030400       0.022248   \n",
       "std         0.397921       0.258265       0.171686       0.161543   \n",
       "min         0.000000       0.000000       0.000000       0.000000   \n",
       "25%         0.000000       0.000000       0.000000       0.000000   \n",
       "50%         0.000000       0.000000       0.000000       0.000000   \n",
       "75%         0.000000       0.000000       0.000000       0.000000   \n",
       "max         1.000000       1.000000       1.000000       4.000000   \n",
       "\n",
       "        SMS_received  \n",
       "count  110527.000000  \n",
       "mean        0.321026  \n",
       "std         0.466873  \n",
       "min         0.000000  \n",
       "25%         0.000000  \n",
       "50%         0.000000  \n",
       "75%         1.000000  \n",
       "max         1.000000  "
      ]
     },
     "execution_count": 5,
     "metadata": {},
     "output_type": "execute_result"
    }
   ],
   "source": [
    "df.describe()"
   ]
  },
  {
   "cell_type": "markdown",
   "metadata": {},
   "source": [
    "* In the dataset minimum value of Age is -1 and maximum value of Age is 115, both of these data are absurd.\n",
    "* So, I remove the rows having Age less than 0 and greater than 100."
   ]
  },
  {
   "cell_type": "code",
   "execution_count": 6,
   "metadata": {},
   "outputs": [
    {
     "data": {
      "text/html": [
       "<div>\n",
       "<style scoped>\n",
       "    .dataframe tbody tr th:only-of-type {\n",
       "        vertical-align: middle;\n",
       "    }\n",
       "\n",
       "    .dataframe tbody tr th {\n",
       "        vertical-align: top;\n",
       "    }\n",
       "\n",
       "    .dataframe thead th {\n",
       "        text-align: right;\n",
       "    }\n",
       "</style>\n",
       "<table border=\"1\" class=\"dataframe\">\n",
       "  <thead>\n",
       "    <tr style=\"text-align: right;\">\n",
       "      <th></th>\n",
       "      <th>PatientId</th>\n",
       "      <th>AppointmentID</th>\n",
       "      <th>Gender</th>\n",
       "      <th>ScheduledDay</th>\n",
       "      <th>AppointmentDay</th>\n",
       "      <th>Age</th>\n",
       "      <th>Neighbourhood</th>\n",
       "      <th>Scholarship</th>\n",
       "      <th>Hipertension</th>\n",
       "      <th>Diabetes</th>\n",
       "      <th>Alcoholism</th>\n",
       "      <th>Handcap</th>\n",
       "      <th>SMS_received</th>\n",
       "      <th>No-show</th>\n",
       "      <th>DayofTheWeek</th>\n",
       "    </tr>\n",
       "  </thead>\n",
       "  <tbody>\n",
       "    <tr>\n",
       "      <th>99832</th>\n",
       "      <td>4.659432e+14</td>\n",
       "      <td>5775010</td>\n",
       "      <td>F</td>\n",
       "      <td>2016-06-06 08:58:13</td>\n",
       "      <td>2016-06-06</td>\n",
       "      <td>-1</td>\n",
       "      <td>ROMÃO</td>\n",
       "      <td>0</td>\n",
       "      <td>0</td>\n",
       "      <td>0</td>\n",
       "      <td>0</td>\n",
       "      <td>0</td>\n",
       "      <td>0</td>\n",
       "      <td>No</td>\n",
       "      <td>Monday</td>\n",
       "    </tr>\n",
       "  </tbody>\n",
       "</table>\n",
       "</div>"
      ],
      "text/plain": [
       "          PatientId  AppointmentID Gender        ScheduledDay AppointmentDay  \\\n",
       "99832  4.659432e+14        5775010      F 2016-06-06 08:58:13     2016-06-06   \n",
       "\n",
       "       Age Neighbourhood  Scholarship  Hipertension  Diabetes  Alcoholism  \\\n",
       "99832   -1         ROMÃO            0             0         0           0   \n",
       "\n",
       "       Handcap  SMS_received No-show DayofTheWeek  \n",
       "99832        0             0      No       Monday  "
      ]
     },
     "execution_count": 6,
     "metadata": {},
     "output_type": "execute_result"
    }
   ],
   "source": [
    "# Finding index of patients having Age less than 0\n",
    "df[df.Age<0]"
   ]
  },
  {
   "cell_type": "code",
   "execution_count": 7,
   "metadata": {},
   "outputs": [
    {
     "data": {
      "text/html": [
       "<div>\n",
       "<style scoped>\n",
       "    .dataframe tbody tr th:only-of-type {\n",
       "        vertical-align: middle;\n",
       "    }\n",
       "\n",
       "    .dataframe tbody tr th {\n",
       "        vertical-align: top;\n",
       "    }\n",
       "\n",
       "    .dataframe thead th {\n",
       "        text-align: right;\n",
       "    }\n",
       "</style>\n",
       "<table border=\"1\" class=\"dataframe\">\n",
       "  <thead>\n",
       "    <tr style=\"text-align: right;\">\n",
       "      <th></th>\n",
       "      <th>PatientId</th>\n",
       "      <th>AppointmentID</th>\n",
       "      <th>Gender</th>\n",
       "      <th>ScheduledDay</th>\n",
       "      <th>AppointmentDay</th>\n",
       "      <th>Age</th>\n",
       "      <th>Neighbourhood</th>\n",
       "      <th>Scholarship</th>\n",
       "      <th>Hipertension</th>\n",
       "      <th>Diabetes</th>\n",
       "      <th>Alcoholism</th>\n",
       "      <th>Handcap</th>\n",
       "      <th>SMS_received</th>\n",
       "      <th>No-show</th>\n",
       "      <th>DayofTheWeek</th>\n",
       "    </tr>\n",
       "  </thead>\n",
       "  <tbody>\n",
       "    <tr>\n",
       "      <th>58014</th>\n",
       "      <td>9.762948e+14</td>\n",
       "      <td>5651757</td>\n",
       "      <td>F</td>\n",
       "      <td>2016-05-03 09:14:53</td>\n",
       "      <td>2016-05-03</td>\n",
       "      <td>102</td>\n",
       "      <td>CONQUISTA</td>\n",
       "      <td>0</td>\n",
       "      <td>0</td>\n",
       "      <td>0</td>\n",
       "      <td>0</td>\n",
       "      <td>0</td>\n",
       "      <td>0</td>\n",
       "      <td>No</td>\n",
       "      <td>Tuesday</td>\n",
       "    </tr>\n",
       "    <tr>\n",
       "      <th>63912</th>\n",
       "      <td>3.196321e+13</td>\n",
       "      <td>5700278</td>\n",
       "      <td>F</td>\n",
       "      <td>2016-05-16 09:17:44</td>\n",
       "      <td>2016-05-19</td>\n",
       "      <td>115</td>\n",
       "      <td>ANDORINHAS</td>\n",
       "      <td>0</td>\n",
       "      <td>0</td>\n",
       "      <td>0</td>\n",
       "      <td>0</td>\n",
       "      <td>1</td>\n",
       "      <td>0</td>\n",
       "      <td>Yes</td>\n",
       "      <td>Thursday</td>\n",
       "    </tr>\n",
       "    <tr>\n",
       "      <th>63915</th>\n",
       "      <td>3.196321e+13</td>\n",
       "      <td>5700279</td>\n",
       "      <td>F</td>\n",
       "      <td>2016-05-16 09:17:44</td>\n",
       "      <td>2016-05-19</td>\n",
       "      <td>115</td>\n",
       "      <td>ANDORINHAS</td>\n",
       "      <td>0</td>\n",
       "      <td>0</td>\n",
       "      <td>0</td>\n",
       "      <td>0</td>\n",
       "      <td>1</td>\n",
       "      <td>0</td>\n",
       "      <td>Yes</td>\n",
       "      <td>Thursday</td>\n",
       "    </tr>\n",
       "    <tr>\n",
       "      <th>68127</th>\n",
       "      <td>3.196321e+13</td>\n",
       "      <td>5562812</td>\n",
       "      <td>F</td>\n",
       "      <td>2016-04-08 14:29:17</td>\n",
       "      <td>2016-05-16</td>\n",
       "      <td>115</td>\n",
       "      <td>ANDORINHAS</td>\n",
       "      <td>0</td>\n",
       "      <td>0</td>\n",
       "      <td>0</td>\n",
       "      <td>0</td>\n",
       "      <td>1</td>\n",
       "      <td>0</td>\n",
       "      <td>Yes</td>\n",
       "      <td>Monday</td>\n",
       "    </tr>\n",
       "    <tr>\n",
       "      <th>76284</th>\n",
       "      <td>3.196321e+13</td>\n",
       "      <td>5744037</td>\n",
       "      <td>F</td>\n",
       "      <td>2016-05-30 09:44:51</td>\n",
       "      <td>2016-05-30</td>\n",
       "      <td>115</td>\n",
       "      <td>ANDORINHAS</td>\n",
       "      <td>0</td>\n",
       "      <td>0</td>\n",
       "      <td>0</td>\n",
       "      <td>0</td>\n",
       "      <td>1</td>\n",
       "      <td>0</td>\n",
       "      <td>No</td>\n",
       "      <td>Monday</td>\n",
       "    </tr>\n",
       "    <tr>\n",
       "      <th>90372</th>\n",
       "      <td>2.342836e+11</td>\n",
       "      <td>5751563</td>\n",
       "      <td>F</td>\n",
       "      <td>2016-05-31 10:19:49</td>\n",
       "      <td>2016-06-02</td>\n",
       "      <td>102</td>\n",
       "      <td>MARIA ORTIZ</td>\n",
       "      <td>0</td>\n",
       "      <td>0</td>\n",
       "      <td>0</td>\n",
       "      <td>0</td>\n",
       "      <td>0</td>\n",
       "      <td>0</td>\n",
       "      <td>No</td>\n",
       "      <td>Thursday</td>\n",
       "    </tr>\n",
       "    <tr>\n",
       "      <th>97666</th>\n",
       "      <td>7.482346e+14</td>\n",
       "      <td>5717451</td>\n",
       "      <td>F</td>\n",
       "      <td>2016-05-19 07:57:56</td>\n",
       "      <td>2016-06-03</td>\n",
       "      <td>115</td>\n",
       "      <td>SÃO JOSÉ</td>\n",
       "      <td>0</td>\n",
       "      <td>1</td>\n",
       "      <td>0</td>\n",
       "      <td>0</td>\n",
       "      <td>0</td>\n",
       "      <td>1</td>\n",
       "      <td>No</td>\n",
       "      <td>Friday</td>\n",
       "    </tr>\n",
       "  </tbody>\n",
       "</table>\n",
       "</div>"
      ],
      "text/plain": [
       "          PatientId  AppointmentID Gender        ScheduledDay AppointmentDay  \\\n",
       "58014  9.762948e+14        5651757      F 2016-05-03 09:14:53     2016-05-03   \n",
       "63912  3.196321e+13        5700278      F 2016-05-16 09:17:44     2016-05-19   \n",
       "63915  3.196321e+13        5700279      F 2016-05-16 09:17:44     2016-05-19   \n",
       "68127  3.196321e+13        5562812      F 2016-04-08 14:29:17     2016-05-16   \n",
       "76284  3.196321e+13        5744037      F 2016-05-30 09:44:51     2016-05-30   \n",
       "90372  2.342836e+11        5751563      F 2016-05-31 10:19:49     2016-06-02   \n",
       "97666  7.482346e+14        5717451      F 2016-05-19 07:57:56     2016-06-03   \n",
       "\n",
       "       Age Neighbourhood  Scholarship  Hipertension  Diabetes  Alcoholism  \\\n",
       "58014  102     CONQUISTA            0             0         0           0   \n",
       "63912  115    ANDORINHAS            0             0         0           0   \n",
       "63915  115    ANDORINHAS            0             0         0           0   \n",
       "68127  115    ANDORINHAS            0             0         0           0   \n",
       "76284  115    ANDORINHAS            0             0         0           0   \n",
       "90372  102   MARIA ORTIZ            0             0         0           0   \n",
       "97666  115      SÃO JOSÉ            0             1         0           0   \n",
       "\n",
       "       Handcap  SMS_received No-show DayofTheWeek  \n",
       "58014        0             0      No      Tuesday  \n",
       "63912        1             0     Yes     Thursday  \n",
       "63915        1             0     Yes     Thursday  \n",
       "68127        1             0     Yes       Monday  \n",
       "76284        1             0      No       Monday  \n",
       "90372        0             0      No     Thursday  \n",
       "97666        0             1      No       Friday  "
      ]
     },
     "execution_count": 7,
     "metadata": {},
     "output_type": "execute_result"
    }
   ],
   "source": [
    "# Finding index of patients having Age greater than 100\n",
    "df[df.Age>100]"
   ]
  },
  {
   "cell_type": "code",
   "execution_count": 8,
   "metadata": {},
   "outputs": [
    {
     "data": {
      "text/html": [
       "<div>\n",
       "<style scoped>\n",
       "    .dataframe tbody tr th:only-of-type {\n",
       "        vertical-align: middle;\n",
       "    }\n",
       "\n",
       "    .dataframe tbody tr th {\n",
       "        vertical-align: top;\n",
       "    }\n",
       "\n",
       "    .dataframe thead th {\n",
       "        text-align: right;\n",
       "    }\n",
       "</style>\n",
       "<table border=\"1\" class=\"dataframe\">\n",
       "  <thead>\n",
       "    <tr style=\"text-align: right;\">\n",
       "      <th></th>\n",
       "      <th>PatientId</th>\n",
       "      <th>AppointmentID</th>\n",
       "      <th>Age</th>\n",
       "      <th>Scholarship</th>\n",
       "      <th>Hipertension</th>\n",
       "      <th>Diabetes</th>\n",
       "      <th>Alcoholism</th>\n",
       "      <th>Handcap</th>\n",
       "      <th>SMS_received</th>\n",
       "    </tr>\n",
       "  </thead>\n",
       "  <tbody>\n",
       "    <tr>\n",
       "      <th>count</th>\n",
       "      <td>1.105190e+05</td>\n",
       "      <td>1.105190e+05</td>\n",
       "      <td>110519.000000</td>\n",
       "      <td>110519.000000</td>\n",
       "      <td>110519.000000</td>\n",
       "      <td>110519.000000</td>\n",
       "      <td>110519.000000</td>\n",
       "      <td>110519.000000</td>\n",
       "      <td>110519.000000</td>\n",
       "    </tr>\n",
       "    <tr>\n",
       "      <th>mean</th>\n",
       "      <td>1.474860e+14</td>\n",
       "      <td>5.675303e+06</td>\n",
       "      <td>37.084519</td>\n",
       "      <td>0.098273</td>\n",
       "      <td>0.197251</td>\n",
       "      <td>0.071870</td>\n",
       "      <td>0.030402</td>\n",
       "      <td>0.022213</td>\n",
       "      <td>0.321040</td>\n",
       "    </tr>\n",
       "    <tr>\n",
       "      <th>std</th>\n",
       "      <td>2.560826e+14</td>\n",
       "      <td>7.129600e+04</td>\n",
       "      <td>23.103165</td>\n",
       "      <td>0.297684</td>\n",
       "      <td>0.397925</td>\n",
       "      <td>0.258274</td>\n",
       "      <td>0.171692</td>\n",
       "      <td>0.161441</td>\n",
       "      <td>0.466878</td>\n",
       "    </tr>\n",
       "    <tr>\n",
       "      <th>min</th>\n",
       "      <td>3.921784e+04</td>\n",
       "      <td>5.030230e+06</td>\n",
       "      <td>0.000000</td>\n",
       "      <td>0.000000</td>\n",
       "      <td>0.000000</td>\n",
       "      <td>0.000000</td>\n",
       "      <td>0.000000</td>\n",
       "      <td>0.000000</td>\n",
       "      <td>0.000000</td>\n",
       "    </tr>\n",
       "    <tr>\n",
       "      <th>25%</th>\n",
       "      <td>4.172457e+12</td>\n",
       "      <td>5.640284e+06</td>\n",
       "      <td>18.000000</td>\n",
       "      <td>0.000000</td>\n",
       "      <td>0.000000</td>\n",
       "      <td>0.000000</td>\n",
       "      <td>0.000000</td>\n",
       "      <td>0.000000</td>\n",
       "      <td>0.000000</td>\n",
       "    </tr>\n",
       "    <tr>\n",
       "      <th>50%</th>\n",
       "      <td>3.172598e+13</td>\n",
       "      <td>5.680569e+06</td>\n",
       "      <td>37.000000</td>\n",
       "      <td>0.000000</td>\n",
       "      <td>0.000000</td>\n",
       "      <td>0.000000</td>\n",
       "      <td>0.000000</td>\n",
       "      <td>0.000000</td>\n",
       "      <td>0.000000</td>\n",
       "    </tr>\n",
       "    <tr>\n",
       "      <th>75%</th>\n",
       "      <td>9.438963e+13</td>\n",
       "      <td>5.725522e+06</td>\n",
       "      <td>55.000000</td>\n",
       "      <td>0.000000</td>\n",
       "      <td>0.000000</td>\n",
       "      <td>0.000000</td>\n",
       "      <td>0.000000</td>\n",
       "      <td>0.000000</td>\n",
       "      <td>1.000000</td>\n",
       "    </tr>\n",
       "    <tr>\n",
       "      <th>max</th>\n",
       "      <td>9.999816e+14</td>\n",
       "      <td>5.790484e+06</td>\n",
       "      <td>100.000000</td>\n",
       "      <td>1.000000</td>\n",
       "      <td>1.000000</td>\n",
       "      <td>1.000000</td>\n",
       "      <td>1.000000</td>\n",
       "      <td>4.000000</td>\n",
       "      <td>1.000000</td>\n",
       "    </tr>\n",
       "  </tbody>\n",
       "</table>\n",
       "</div>"
      ],
      "text/plain": [
       "          PatientId  AppointmentID            Age    Scholarship  \\\n",
       "count  1.105190e+05   1.105190e+05  110519.000000  110519.000000   \n",
       "mean   1.474860e+14   5.675303e+06      37.084519       0.098273   \n",
       "std    2.560826e+14   7.129600e+04      23.103165       0.297684   \n",
       "min    3.921784e+04   5.030230e+06       0.000000       0.000000   \n",
       "25%    4.172457e+12   5.640284e+06      18.000000       0.000000   \n",
       "50%    3.172598e+13   5.680569e+06      37.000000       0.000000   \n",
       "75%    9.438963e+13   5.725522e+06      55.000000       0.000000   \n",
       "max    9.999816e+14   5.790484e+06     100.000000       1.000000   \n",
       "\n",
       "        Hipertension       Diabetes     Alcoholism        Handcap  \\\n",
       "count  110519.000000  110519.000000  110519.000000  110519.000000   \n",
       "mean        0.197251       0.071870       0.030402       0.022213   \n",
       "std         0.397925       0.258274       0.171692       0.161441   \n",
       "min         0.000000       0.000000       0.000000       0.000000   \n",
       "25%         0.000000       0.000000       0.000000       0.000000   \n",
       "50%         0.000000       0.000000       0.000000       0.000000   \n",
       "75%         0.000000       0.000000       0.000000       0.000000   \n",
       "max         1.000000       1.000000       1.000000       4.000000   \n",
       "\n",
       "        SMS_received  \n",
       "count  110519.000000  \n",
       "mean        0.321040  \n",
       "std         0.466878  \n",
       "min         0.000000  \n",
       "25%         0.000000  \n",
       "50%         0.000000  \n",
       "75%         1.000000  \n",
       "max         1.000000  "
      ]
     },
     "execution_count": 8,
     "metadata": {},
     "output_type": "execute_result"
    }
   ],
   "source": [
    "df=df.drop(df.index[[99832,58014,63912,63915,68127,76284,90372,97666]])\n",
    "df.describe()"
   ]
  },
  {
   "cell_type": "markdown",
   "metadata": {},
   "source": [
    "* New Dataset size = 110511 entries\n",
    "* Renaming columns 'No-show' and 'SMS_received' for easy access"
   ]
  },
  {
   "cell_type": "code",
   "execution_count": 9,
   "metadata": {},
   "outputs": [
    {
     "data": {
      "text/html": [
       "<div>\n",
       "<style scoped>\n",
       "    .dataframe tbody tr th:only-of-type {\n",
       "        vertical-align: middle;\n",
       "    }\n",
       "\n",
       "    .dataframe tbody tr th {\n",
       "        vertical-align: top;\n",
       "    }\n",
       "\n",
       "    .dataframe thead th {\n",
       "        text-align: right;\n",
       "    }\n",
       "</style>\n",
       "<table border=\"1\" class=\"dataframe\">\n",
       "  <thead>\n",
       "    <tr style=\"text-align: right;\">\n",
       "      <th></th>\n",
       "      <th>PatientId</th>\n",
       "      <th>AppointmentID</th>\n",
       "      <th>Gender</th>\n",
       "      <th>ScheduledDay</th>\n",
       "      <th>AppointmentDay</th>\n",
       "      <th>Age</th>\n",
       "      <th>Neighbourhood</th>\n",
       "      <th>Scholarship</th>\n",
       "      <th>Hipertension</th>\n",
       "      <th>Diabetes</th>\n",
       "      <th>Alcoholism</th>\n",
       "      <th>Handicap</th>\n",
       "      <th>SMSRecieved</th>\n",
       "      <th>NoShow</th>\n",
       "      <th>DayofTheWeek</th>\n",
       "    </tr>\n",
       "  </thead>\n",
       "  <tbody>\n",
       "    <tr>\n",
       "      <th>0</th>\n",
       "      <td>2.987250e+13</td>\n",
       "      <td>5642903</td>\n",
       "      <td>F</td>\n",
       "      <td>2016-04-29 18:38:08</td>\n",
       "      <td>2016-04-29</td>\n",
       "      <td>62</td>\n",
       "      <td>JARDIM DA PENHA</td>\n",
       "      <td>0</td>\n",
       "      <td>1</td>\n",
       "      <td>0</td>\n",
       "      <td>0</td>\n",
       "      <td>0</td>\n",
       "      <td>0</td>\n",
       "      <td>No</td>\n",
       "      <td>Friday</td>\n",
       "    </tr>\n",
       "    <tr>\n",
       "      <th>1</th>\n",
       "      <td>5.589978e+14</td>\n",
       "      <td>5642503</td>\n",
       "      <td>M</td>\n",
       "      <td>2016-04-29 16:08:27</td>\n",
       "      <td>2016-04-29</td>\n",
       "      <td>56</td>\n",
       "      <td>JARDIM DA PENHA</td>\n",
       "      <td>0</td>\n",
       "      <td>0</td>\n",
       "      <td>0</td>\n",
       "      <td>0</td>\n",
       "      <td>0</td>\n",
       "      <td>0</td>\n",
       "      <td>No</td>\n",
       "      <td>Friday</td>\n",
       "    </tr>\n",
       "    <tr>\n",
       "      <th>2</th>\n",
       "      <td>4.262962e+12</td>\n",
       "      <td>5642549</td>\n",
       "      <td>F</td>\n",
       "      <td>2016-04-29 16:19:04</td>\n",
       "      <td>2016-04-29</td>\n",
       "      <td>62</td>\n",
       "      <td>MATA DA PRAIA</td>\n",
       "      <td>0</td>\n",
       "      <td>0</td>\n",
       "      <td>0</td>\n",
       "      <td>0</td>\n",
       "      <td>0</td>\n",
       "      <td>0</td>\n",
       "      <td>No</td>\n",
       "      <td>Friday</td>\n",
       "    </tr>\n",
       "    <tr>\n",
       "      <th>3</th>\n",
       "      <td>8.679512e+11</td>\n",
       "      <td>5642828</td>\n",
       "      <td>F</td>\n",
       "      <td>2016-04-29 17:29:31</td>\n",
       "      <td>2016-04-29</td>\n",
       "      <td>8</td>\n",
       "      <td>PONTAL DE CAMBURI</td>\n",
       "      <td>0</td>\n",
       "      <td>0</td>\n",
       "      <td>0</td>\n",
       "      <td>0</td>\n",
       "      <td>0</td>\n",
       "      <td>0</td>\n",
       "      <td>No</td>\n",
       "      <td>Friday</td>\n",
       "    </tr>\n",
       "    <tr>\n",
       "      <th>4</th>\n",
       "      <td>8.841186e+12</td>\n",
       "      <td>5642494</td>\n",
       "      <td>F</td>\n",
       "      <td>2016-04-29 16:07:23</td>\n",
       "      <td>2016-04-29</td>\n",
       "      <td>56</td>\n",
       "      <td>JARDIM DA PENHA</td>\n",
       "      <td>0</td>\n",
       "      <td>1</td>\n",
       "      <td>1</td>\n",
       "      <td>0</td>\n",
       "      <td>0</td>\n",
       "      <td>0</td>\n",
       "      <td>No</td>\n",
       "      <td>Friday</td>\n",
       "    </tr>\n",
       "  </tbody>\n",
       "</table>\n",
       "</div>"
      ],
      "text/plain": [
       "      PatientId  AppointmentID Gender        ScheduledDay AppointmentDay  Age  \\\n",
       "0  2.987250e+13        5642903      F 2016-04-29 18:38:08     2016-04-29   62   \n",
       "1  5.589978e+14        5642503      M 2016-04-29 16:08:27     2016-04-29   56   \n",
       "2  4.262962e+12        5642549      F 2016-04-29 16:19:04     2016-04-29   62   \n",
       "3  8.679512e+11        5642828      F 2016-04-29 17:29:31     2016-04-29    8   \n",
       "4  8.841186e+12        5642494      F 2016-04-29 16:07:23     2016-04-29   56   \n",
       "\n",
       "       Neighbourhood  Scholarship  Hipertension  Diabetes  Alcoholism  \\\n",
       "0    JARDIM DA PENHA            0             1         0           0   \n",
       "1    JARDIM DA PENHA            0             0         0           0   \n",
       "2      MATA DA PRAIA            0             0         0           0   \n",
       "3  PONTAL DE CAMBURI            0             0         0           0   \n",
       "4    JARDIM DA PENHA            0             1         1           0   \n",
       "\n",
       "   Handicap  SMSRecieved NoShow DayofTheWeek  \n",
       "0         0            0     No       Friday  \n",
       "1         0            0     No       Friday  \n",
       "2         0            0     No       Friday  \n",
       "3         0            0     No       Friday  \n",
       "4         0            0     No       Friday  "
      ]
     },
     "execution_count": 9,
     "metadata": {},
     "output_type": "execute_result"
    }
   ],
   "source": [
    "df = df.rename(columns = \n",
    "                   {'No-show' : 'NoShow',\n",
    "                   \t'SMS_received' : 'SMSRecieved',\n",
    "                    'Handcap' : 'Handicap'})\n",
    "df.head()"
   ]
  },
  {
   "cell_type": "markdown",
   "metadata": {},
   "source": [
    "* Next, I am going to replace the values 1 and 0 by Yes and no, respectively for the columns \"Scholarship\", \"Hipertension\", \"Diabetes\", \"Alcoholism\", \"Handicap\" and \"SMS Recieved\"."
   ]
  },
  {
   "cell_type": "code",
   "execution_count": 10,
   "metadata": {},
   "outputs": [
    {
     "data": {
      "text/html": [
       "<div>\n",
       "<style scoped>\n",
       "    .dataframe tbody tr th:only-of-type {\n",
       "        vertical-align: middle;\n",
       "    }\n",
       "\n",
       "    .dataframe tbody tr th {\n",
       "        vertical-align: top;\n",
       "    }\n",
       "\n",
       "    .dataframe thead th {\n",
       "        text-align: right;\n",
       "    }\n",
       "</style>\n",
       "<table border=\"1\" class=\"dataframe\">\n",
       "  <thead>\n",
       "    <tr style=\"text-align: right;\">\n",
       "      <th></th>\n",
       "      <th>PatientId</th>\n",
       "      <th>AppointmentID</th>\n",
       "      <th>Gender</th>\n",
       "      <th>ScheduledDay</th>\n",
       "      <th>AppointmentDay</th>\n",
       "      <th>Age</th>\n",
       "      <th>Neighbourhood</th>\n",
       "      <th>Scholarship</th>\n",
       "      <th>Hipertension</th>\n",
       "      <th>Diabetes</th>\n",
       "      <th>Alcoholism</th>\n",
       "      <th>Handicap</th>\n",
       "      <th>SMSRecieved</th>\n",
       "      <th>NoShow</th>\n",
       "      <th>DayofTheWeek</th>\n",
       "    </tr>\n",
       "  </thead>\n",
       "  <tbody>\n",
       "    <tr>\n",
       "      <th>0</th>\n",
       "      <td>2.987250e+13</td>\n",
       "      <td>5642903</td>\n",
       "      <td>F</td>\n",
       "      <td>2016-04-29 18:38:08</td>\n",
       "      <td>2016-04-29</td>\n",
       "      <td>62</td>\n",
       "      <td>JARDIM DA PENHA</td>\n",
       "      <td>No</td>\n",
       "      <td>Yes</td>\n",
       "      <td>No</td>\n",
       "      <td>No</td>\n",
       "      <td>No</td>\n",
       "      <td>No</td>\n",
       "      <td>No</td>\n",
       "      <td>Friday</td>\n",
       "    </tr>\n",
       "    <tr>\n",
       "      <th>1</th>\n",
       "      <td>5.589978e+14</td>\n",
       "      <td>5642503</td>\n",
       "      <td>M</td>\n",
       "      <td>2016-04-29 16:08:27</td>\n",
       "      <td>2016-04-29</td>\n",
       "      <td>56</td>\n",
       "      <td>JARDIM DA PENHA</td>\n",
       "      <td>No</td>\n",
       "      <td>No</td>\n",
       "      <td>No</td>\n",
       "      <td>No</td>\n",
       "      <td>No</td>\n",
       "      <td>No</td>\n",
       "      <td>No</td>\n",
       "      <td>Friday</td>\n",
       "    </tr>\n",
       "    <tr>\n",
       "      <th>2</th>\n",
       "      <td>4.262962e+12</td>\n",
       "      <td>5642549</td>\n",
       "      <td>F</td>\n",
       "      <td>2016-04-29 16:19:04</td>\n",
       "      <td>2016-04-29</td>\n",
       "      <td>62</td>\n",
       "      <td>MATA DA PRAIA</td>\n",
       "      <td>No</td>\n",
       "      <td>No</td>\n",
       "      <td>No</td>\n",
       "      <td>No</td>\n",
       "      <td>No</td>\n",
       "      <td>No</td>\n",
       "      <td>No</td>\n",
       "      <td>Friday</td>\n",
       "    </tr>\n",
       "    <tr>\n",
       "      <th>3</th>\n",
       "      <td>8.679512e+11</td>\n",
       "      <td>5642828</td>\n",
       "      <td>F</td>\n",
       "      <td>2016-04-29 17:29:31</td>\n",
       "      <td>2016-04-29</td>\n",
       "      <td>8</td>\n",
       "      <td>PONTAL DE CAMBURI</td>\n",
       "      <td>No</td>\n",
       "      <td>No</td>\n",
       "      <td>No</td>\n",
       "      <td>No</td>\n",
       "      <td>No</td>\n",
       "      <td>No</td>\n",
       "      <td>No</td>\n",
       "      <td>Friday</td>\n",
       "    </tr>\n",
       "    <tr>\n",
       "      <th>4</th>\n",
       "      <td>8.841186e+12</td>\n",
       "      <td>5642494</td>\n",
       "      <td>F</td>\n",
       "      <td>2016-04-29 16:07:23</td>\n",
       "      <td>2016-04-29</td>\n",
       "      <td>56</td>\n",
       "      <td>JARDIM DA PENHA</td>\n",
       "      <td>No</td>\n",
       "      <td>Yes</td>\n",
       "      <td>Yes</td>\n",
       "      <td>No</td>\n",
       "      <td>No</td>\n",
       "      <td>No</td>\n",
       "      <td>No</td>\n",
       "      <td>Friday</td>\n",
       "    </tr>\n",
       "  </tbody>\n",
       "</table>\n",
       "</div>"
      ],
      "text/plain": [
       "      PatientId  AppointmentID Gender        ScheduledDay AppointmentDay  Age  \\\n",
       "0  2.987250e+13        5642903      F 2016-04-29 18:38:08     2016-04-29   62   \n",
       "1  5.589978e+14        5642503      M 2016-04-29 16:08:27     2016-04-29   56   \n",
       "2  4.262962e+12        5642549      F 2016-04-29 16:19:04     2016-04-29   62   \n",
       "3  8.679512e+11        5642828      F 2016-04-29 17:29:31     2016-04-29    8   \n",
       "4  8.841186e+12        5642494      F 2016-04-29 16:07:23     2016-04-29   56   \n",
       "\n",
       "       Neighbourhood Scholarship Hipertension Diabetes Alcoholism Handicap  \\\n",
       "0    JARDIM DA PENHA          No          Yes       No         No       No   \n",
       "1    JARDIM DA PENHA          No           No       No         No       No   \n",
       "2      MATA DA PRAIA          No           No       No         No       No   \n",
       "3  PONTAL DE CAMBURI          No           No       No         No       No   \n",
       "4    JARDIM DA PENHA          No          Yes      Yes         No       No   \n",
       "\n",
       "  SMSRecieved NoShow DayofTheWeek  \n",
       "0          No     No       Friday  \n",
       "1          No     No       Friday  \n",
       "2          No     No       Friday  \n",
       "3          No     No       Friday  \n",
       "4          No     No       Friday  "
      ]
     },
     "execution_count": 10,
     "metadata": {},
     "output_type": "execute_result"
    }
   ],
   "source": [
    "df['Scholarship'] = df['Scholarship'].map({1 : 'Yes', 0 : 'No'})\n",
    "df['Hipertension'] = df['Hipertension'].map({1 : 'Yes', 0 : 'No'})\n",
    "df['Diabetes'] = df['Diabetes'].map({1 : 'Yes', 0 : 'No'})\n",
    "df['Alcoholism'] = df['Alcoholism'].map({1 : 'Yes', 0 : 'No'})\n",
    "df['Handicap'] = df['Handicap'].map({1 : 'Yes', 0 : 'No'})\n",
    "df['SMSRecieved'] = df['SMSRecieved'].map({1 : 'Yes', 0 : 'No'})\n",
    "df.head()"
   ]
  },
  {
   "cell_type": "markdown",
   "metadata": {},
   "source": [
    "<a id='eda'></a>\n",
    "## Exploratory Data Analysis\n",
    "<a id='rq1'></a>\n",
    "### Research Question 1 (How the following factors affect if a patient will show up for their scheduled appointment or not?)"
   ]
  },
  {
   "cell_type": "markdown",
   "metadata": {},
   "source": [
    "### a) Gender"
   ]
  },
  {
   "cell_type": "code",
   "execution_count": 11,
   "metadata": {},
   "outputs": [
    {
     "name": "stdout",
     "output_type": "stream",
     "text": [
      "Total no of females = 71832.0 and females which didn't show up = 14591.0\n",
      "Total no of males = 38687.0 and males which didn't show up = 7725.0\n",
      "Percentage of females = 20.3126740172 and males = 19.9679478895, that didn't show up\n"
     ]
    }
   ],
   "source": [
    "total_females = float(df[df.Gender == 'F']['Gender'].count())\n",
    "total_males = float(df[df.Gender == 'M']['Gender'].count())\n",
    "total_females_noShow = float(df[(df.Gender == 'F') & (df.NoShow == 'Yes')]['Gender'].count())\n",
    "total_males_noShow = float(df[(df.Gender == 'M') & (df.NoShow == 'Yes')]['Gender'].count())\n",
    "percent_of_females_noShow = (total_females_noShow/total_females)*100\n",
    "percent_of_males_noShow = (total_males_noShow/total_males)*100\n",
    "print \"Total no of females = {} and females which didn't show up = {}\".format(total_females,total_females_noShow)\n",
    "print \"Total no of males = {} and males which didn't show up = {}\".format(total_males,total_males_noShow)\n",
    "print \"Percentage of females = {} and males = {}, that didn't show up\".format(percent_of_females_noShow,percent_of_males_noShow)\n",
    "# sns.barplot(x = 'Gender', y = 'No-show', data = df)\n",
    "# plt.xlabel('Gender')\n",
    "# plt.ylabel('No-show')\n",
    "# plt.show()"
   ]
  },
  {
   "cell_type": "markdown",
   "metadata": {},
   "source": [
    "From the above output we find that:\n",
    "* Percentage of females = 20.3124129866, that didn't show up.\n",
    "* Percent of males = 19.9648424372, that didn't show up.\n",
    "* There is a very little or negligible difference in the number of people who didn't turn up for the appointment in terms of Gender."
   ]
  },
  {
   "cell_type": "markdown",
   "metadata": {},
   "source": [
    "### b) Day of the week of the appointment"
   ]
  },
  {
   "cell_type": "code",
   "execution_count": 12,
   "metadata": {
    "scrolled": true
   },
   "outputs": [
    {
     "name": "stdout",
     "output_type": "stream",
     "text": [
      "Percentage of patients that didn't show up on Monday = 20.6454737584\n",
      "Percentage of patients that didn't show up on Tuesday = 20.0943874566\n",
      "Percentage of patients that didn't show up on Wednesday = 19.6891792632\n",
      "Percentage of patients that didn't show up on Thursday = 19.3458594294\n",
      "Percentage of patients that didn't show up on Friday = 21.2272583868\n",
      "Percentage of patients that didn't show up on Saturday = 23.0769230769\n"
     ]
    }
   ],
   "source": [
    "# print df[df.NoShow == 'Yes'].groupby('DayofTheWeek')['NoShow'].count()\n",
    "# df[df.NoShow == 'Yes'].groupby('DayofTheWeek')['NoShow'].count().plot(kind='bar')\n",
    "patients_appointment_day_for_monday = float(df[(df.DayofTheWeek == 'Monday')]['NoShow'].count())\n",
    "patients_appointment_day_for_monday_no_show = float(df[(df.NoShow == 'Yes') & (df.DayofTheWeek == 'Monday')]['NoShow'].count())\n",
    "patients_appointment_day_for_tuesday = float(df[(df.DayofTheWeek == 'Tuesday')]['NoShow'].count())\n",
    "patients_appointment_day_for_tuesday_no_show = float(df[(df.NoShow == 'Yes') & (df.DayofTheWeek == 'Tuesday')]['NoShow'].count())\n",
    "patients_appointment_day_for_wednesday = float(df[(df.DayofTheWeek == 'Wednesday')]['NoShow'].count())\n",
    "patients_appointment_day_for_wednesday_no_show = float(df[(df.NoShow == 'Yes') & (df.DayofTheWeek == 'Wednesday')]['NoShow'].count())\n",
    "patients_appointment_day_for_thursday = float(df[(df.DayofTheWeek == 'Thursday')]['NoShow'].count())\n",
    "patients_appointment_day_for_thursday_no_show = float(df[(df.NoShow == 'Yes') & (df.DayofTheWeek == 'Thursday')]['NoShow'].count())\n",
    "patients_appointment_day_for_friday = float(df[(df.DayofTheWeek == 'Friday')]['NoShow'].count())\n",
    "patients_appointment_day_for_friday_no_show = float(df[(df.NoShow == 'Yes') & (df.DayofTheWeek == 'Friday')]['NoShow'].count())\n",
    "patients_appointment_day_for_saturday = float(df[(df.DayofTheWeek == 'Saturday')]['NoShow'].count())\n",
    "patients_appointment_day_for_saturday_no_show = float(df[(df.NoShow == 'Yes') & (df.DayofTheWeek == 'Saturday')]['NoShow'].count())\n",
    "percent_of_patients_noshow_on_monday = (patients_appointment_day_for_monday_no_show/patients_appointment_day_for_monday)*100\n",
    "percent_of_patients_noshow_on_tuesday = (patients_appointment_day_for_tuesday_no_show/patients_appointment_day_for_tuesday)*100\n",
    "percent_of_patients_noshow_on_wednesday = (patients_appointment_day_for_wednesday_no_show/patients_appointment_day_for_wednesday)*100\n",
    "percent_of_patients_noshow_on_thursday = (patients_appointment_day_for_thursday_no_show/patients_appointment_day_for_thursday)*100\n",
    "percent_of_patients_noshow_on_friday = (patients_appointment_day_for_friday_no_show/patients_appointment_day_for_friday)*100\n",
    "percent_of_patients_noshow_on_saturday = (patients_appointment_day_for_saturday_no_show/patients_appointment_day_for_saturday)*100\n",
    "print \"Percentage of patients that didn't show up on Monday = {}\".format(percent_of_patients_noshow_on_monday)\n",
    "print \"Percentage of patients that didn't show up on Tuesday = {}\".format(percent_of_patients_noshow_on_tuesday)\n",
    "print \"Percentage of patients that didn't show up on Wednesday = {}\".format(percent_of_patients_noshow_on_wednesday)\n",
    "print \"Percentage of patients that didn't show up on Thursday = {}\".format(percent_of_patients_noshow_on_thursday)\n",
    "print \"Percentage of patients that didn't show up on Friday = {}\".format(percent_of_patients_noshow_on_friday)\n",
    "print \"Percentage of patients that didn't show up on Saturday = {}\".format(percent_of_patients_noshow_on_saturday)"
   ]
  },
  {
   "cell_type": "markdown",
   "metadata": {},
   "source": [
    "Percentage of patients that didn't show up is 2 to 3 percent more on weekends than weekdays. "
   ]
  },
  {
   "cell_type": "markdown",
   "metadata": {},
   "source": [
    "### c) Age"
   ]
  },
  {
   "cell_type": "code",
   "execution_count": 13,
   "metadata": {},
   "outputs": [
    {
     "name": "stdout",
     "output_type": "stream",
     "text": [
      "Percentage of patients of age group (0-20) that didn't show up : 22.2808339613\n",
      "Percentage of patients of age group (21-40) that didn't show up : 22.9790185538\n",
      "Percentage of patients of age group (41-60) that didn't show up : 18.5864831621\n",
      "Percentage of patients of age group (61-80) that didn't show up : 15.0029568303\n",
      "Percentage of patients of age group (81-100) that didn't show up : 16.3796133568\n"
     ]
    }
   ],
   "source": [
    "patients_age20 = float(df[df.Age <= 20]['Age'].count())\n",
    "patients_age20_noshow = float(df[(df.Age <= 20) & (df.NoShow == 'Yes')]['Age'].count())\n",
    "patients_age20_noshow_percent = (patients_age20_noshow/patients_age20)*100\n",
    "patients_age40 = float(df[(df.Age > 20) & (df.Age <= 40)]['Age'].count())\n",
    "patients_age40_noshow = float(df[(df.Age > 20) & (df.Age <=40) & (df.NoShow == 'Yes')]['Age'].count())\n",
    "patients_age40_noshow_percent = (patients_age40_noshow/patients_age40)*100\n",
    "patients_age60 = float(df[(df.Age > 40) & (df.Age <= 60)]['Age'].count())\n",
    "patients_age60_noshow = float(df[(df.Age > 40) & (df.Age <=60) & (df.NoShow == 'Yes')]['Age'].count())\n",
    "patients_age60_noshow_percent = (patients_age60_noshow/patients_age60)*100\n",
    "patients_age80 = float(df[(df.Age > 60) & (df.Age <= 80)]['Age'].count())\n",
    "patients_age80_noshow = float(df[(df.Age > 60) & (df.Age <=80) & (df.NoShow == 'Yes')]['Age'].count())\n",
    "patients_age80_noshow_percent = (patients_age80_noshow/patients_age80)*100\n",
    "patients_age100 = float(df[(df.Age > 80) & (df.Age <= 100)]['Age'].count())\n",
    "patients_age100_noshow = float(df[(df.Age > 80) & (df.Age <=100) & (df.NoShow == 'Yes')]['Age'].count())\n",
    "patients_age100_noshow_percent = (patients_age100_noshow/patients_age100)*100\n",
    "print \"Percentage of patients of age group (0-20) that didn't show up : {}\".format(patients_age20_noshow_percent)\n",
    "print \"Percentage of patients of age group (21-40) that didn't show up : {}\".format(patients_age40_noshow_percent)\n",
    "print \"Percentage of patients of age group (41-60) that didn't show up : {}\".format(patients_age60_noshow_percent)\n",
    "print \"Percentage of patients of age group (61-80) that didn't show up : {}\".format(patients_age80_noshow_percent)\n",
    "print \"Percentage of patients of age group (81-100) that didn't show up : {}\".format(patients_age100_noshow_percent)"
   ]
  },
  {
   "cell_type": "markdown",
   "metadata": {},
   "source": [
    "* The Dataset is divided into 5 age groups 0-20, 21-40, 41-60, 61-80 and 81-100.\n",
    "* From the result above it seems that, older the patient, higher the chance of the patient of showing up for the appointment."
   ]
  },
  {
   "cell_type": "markdown",
   "metadata": {},
   "source": [
    "### d) Neighbourhood"
   ]
  },
  {
   "cell_type": "code",
   "execution_count": 14,
   "metadata": {},
   "outputs": [
    {
     "data": {
      "text/plain": [
       "<matplotlib.axes._subplots.AxesSubplot at 0x7f0e45a7a7d0>"
      ]
     },
     "execution_count": 14,
     "metadata": {},
     "output_type": "execute_result"
    },
    {
     "data": {
      "image/png": "[encoded data removed]",
      "text/plain": [
       "<matplotlib.figure.Figure at 0x7f0e46815a10>"
      ]
     },
     "metadata": {},
     "output_type": "display_data"
    }
   ],
   "source": [
    "# print df[df.NoShow == 'Yes'].groupby('Neighbourhood')['NoShow'].count().plot(kind='bar', figsize=(30,5))\n",
    "appointments_made_per_neighbourhood = df.groupby('Neighbourhood')['NoShow'].count()\n",
    "appointments_no_show_per_neighbourhood = df[df.NoShow == 'Yes'].groupby('Neighbourhood')['NoShow'].count()\n",
    "percentage_of_appointments_no_show_per_neighbourhood = (appointments_no_show_per_neighbourhood/appointments_made_per_neighbourhood)*100\n",
    "percentage_of_appointments_no_show_per_neighbourhood.plot(kind='bar', figsize=(30,5))"
   ]
  },
  {
   "cell_type": "markdown",
   "metadata": {},
   "source": [
    "* From the graph above it seems that in neighbourhood = 'Ilhas Oceanicas De Trindade', people have high tendency to not show at appointment and in neighbourhood = 'Parque Industrial', people have very low tendency to not show at the appointment."
   ]
  },
  {
   "cell_type": "markdown",
   "metadata": {},
   "source": [
    "### e) Having enrollment in Brasilian welfare program Bolsa Família (or Scholarship)"
   ]
  },
  {
   "cell_type": "code",
   "execution_count": 15,
   "metadata": {},
   "outputs": [
    {
     "name": "stdout",
     "output_type": "stream",
     "text": [
      "Percentage of patients having scholarship and didn't show up: 23.7363042077\n",
      "Percentage of patients not having scholarship and didn't show up: 19.8057356158\n"
     ]
    }
   ],
   "source": [
    "total_appointments_having_scholarship = float(df[df.Scholarship == 'Yes']['Scholarship'].count())\n",
    "total_appointments_having_scholarship_no_show = float(df[(df.Scholarship == 'Yes') & (df.NoShow == 'Yes')]['Scholarship'].count())\n",
    "percent_of_appointments_having_scholarship_no_show = (total_appointments_having_scholarship_no_show/total_appointments_having_scholarship)*100\n",
    "total_appointments_not_having_scholarship = float(df[df.Scholarship == 'No']['Scholarship'].count())\n",
    "total_appointments_not_having_scholarship_no_show = float(df[(df.Scholarship == 'No') & (df.NoShow == 'Yes')]['Scholarship'].count())\n",
    "percent_of_appointments_not_having_scholarship_no_show = (total_appointments_not_having_scholarship_no_show/total_appointments_not_having_scholarship)*100\n",
    "print \"Percentage of patients having scholarship and didn't show up: {}\".format(percent_of_appointments_having_scholarship_no_show)\n",
    "print \"Percentage of patients not having scholarship and didn't show up: {}\".format(percent_of_appointments_not_having_scholarship_no_show)"
   ]
  },
  {
   "cell_type": "markdown",
   "metadata": {},
   "source": [
    "* From the above result it seems that the patients having scholarship have more tendency to not show up at the apppointment than the patients not having scholarship."
   ]
  },
  {
   "cell_type": "markdown",
   "metadata": {},
   "source": [
    "### f) Having Hypertension"
   ]
  },
  {
   "cell_type": "code",
   "execution_count": 16,
   "metadata": {},
   "outputs": [
    {
     "name": "stdout",
     "output_type": "stream",
     "text": [
      "Percentage of patients having hypertension and didn't show up: 17.3027522936\n",
      "Percentage of patients not having hypertension and didn't show up: 20.9019488497\n"
     ]
    }
   ],
   "source": [
    "total_appointments_having_hypertension = float(df[df.Hipertension == 'Yes']['Hipertension'].count()) \n",
    "total_appointments_having_hypertension_no_show = float(df[(df.Hipertension == 'Yes') & (df.NoShow == 'Yes')]['Hipertension'].count())\n",
    "percent_of_appointments_having_hypertension_no_show = (total_appointments_having_hypertension_no_show/total_appointments_having_hypertension)*100\n",
    "total_appointments_not_having_hypertension = float(df[df.Hipertension == 'No']['Hipertension'].count())\n",
    "total_appointments_not_having_hypertension_no_show = float(df[(df.Hipertension == 'No') & (df.NoShow == 'Yes')]['Hipertension'].count())\n",
    "percent_of_appointments_not_having_hypertension_no_show = (total_appointments_not_having_hypertension_no_show/total_appointments_not_having_hypertension)*100\n",
    "print \"Percentage of patients having hypertension and didn't show up: {}\".format(percent_of_appointments_having_hypertension_no_show)\n",
    "print \"Percentage of patients not having hypertension and didn't show up: {}\".format(percent_of_appointments_not_having_hypertension_no_show)"
   ]
  },
  {
   "cell_type": "markdown",
   "metadata": {},
   "source": [
    "* From the above result it seems that the patients not having hypertension have more tendency to not show up at the apppointment than the patients having hypertension."
   ]
  },
  {
   "cell_type": "markdown",
   "metadata": {},
   "source": [
    "### g) Having Diabetes"
   ]
  },
  {
   "cell_type": "code",
   "execution_count": 17,
   "metadata": {},
   "outputs": [
    {
     "name": "stdout",
     "output_type": "stream",
     "text": [
      "Percentage of patients having diabetes and didn't show up: 18.0032733224\n",
      "Percentage of patients not having diabetes and didn't show up: 20.3614880674\n"
     ]
    }
   ],
   "source": [
    "total_appointments_having_diabetes = float(df[df.Diabetes == 'Yes']['Diabetes'].count()) \n",
    "total_appointments_having_diabetes_no_show = float(df[(df.Diabetes == 'Yes') & (df.NoShow == 'Yes')]['Diabetes'].count())\n",
    "percent_of_appointments_having_diabetes_no_show = (total_appointments_having_diabetes_no_show/total_appointments_having_diabetes)*100\n",
    "total_appointments_not_having_diabetes = float(df[df.Diabetes == 'No']['Diabetes'].count())\n",
    "total_appointments_not_having_diabetes_no_show = float(df[(df.Diabetes == 'No') & (df.NoShow == 'Yes')]['Diabetes'].count())\n",
    "percent_of_appointments_not_having_diabetes_no_show = (total_appointments_not_having_diabetes_no_show/total_appointments_not_having_diabetes)*100\n",
    "print \"Percentage of patients having diabetes and didn't show up: {}\".format(percent_of_appointments_having_diabetes_no_show)\n",
    "print \"Percentage of patients not having diabetes and didn't show up: {}\".format(percent_of_appointments_not_having_diabetes_no_show)"
   ]
  },
  {
   "cell_type": "markdown",
   "metadata": {},
   "source": [
    "* From the above result it seems that the patients having diabetes have more tendency to show up at the apppointment than the patients not having diabetes."
   ]
  },
  {
   "cell_type": "markdown",
   "metadata": {},
   "source": [
    "### h) Alcoholism"
   ]
  },
  {
   "cell_type": "code",
   "execution_count": 18,
   "metadata": {},
   "outputs": [
    {
     "name": "stdout",
     "output_type": "stream",
     "text": [
      "Percentage of patients having alcoholism and didn't show up: 20.1488095238\n",
      "Percentage of patients not having alcoholism and didn't show up: 20.1933575341\n"
     ]
    }
   ],
   "source": [
    "total_appointments_having_alcoholism = float(df[df.Alcoholism == 'Yes']['Alcoholism'].count()) \n",
    "total_appointments_having_alcoholism_no_show = float(df[(df.Alcoholism == 'Yes') & (df.NoShow == 'Yes')]['Alcoholism'].count())\n",
    "percent_of_appointments_having_alcoholism_no_show = (total_appointments_having_alcoholism_no_show/total_appointments_having_alcoholism)*100\n",
    "total_appointments_not_having_alcoholism = float(df[df.Alcoholism == 'No']['Alcoholism'].count())\n",
    "total_appointments_not_having_alcoholism_no_show = float(df[(df.Alcoholism == 'No') & (df.NoShow == 'Yes')]['Alcoholism'].count())\n",
    "percent_of_appointments_not_having_alcoholism_no_show = (total_appointments_not_having_alcoholism_no_show/total_appointments_not_having_alcoholism)*100\n",
    "print \"Percentage of patients having alcoholism and didn't show up: {}\".format(percent_of_appointments_having_alcoholism_no_show)\n",
    "print \"Percentage of patients not having alcoholism and didn't show up: {}\".format(percent_of_appointments_not_having_alcoholism_no_show)"
   ]
  },
  {
   "cell_type": "markdown",
   "metadata": {},
   "source": [
    "* From the above result it seems that alcoholism doesn't not affect if the patient will show up at the appointment or not."
   ]
  },
  {
   "cell_type": "markdown",
   "metadata": {},
   "source": [
    "### i) Handicap"
   ]
  },
  {
   "cell_type": "code",
   "execution_count": 19,
   "metadata": {},
   "outputs": [
    {
     "name": "stdout",
     "output_type": "stream",
     "text": [
      "Percentage of patients that are handicap and didn't show up: 17.8115799804\n",
      "Percentage of patients that aren't handicap and didn't show up: 20.2360503131\n"
     ]
    }
   ],
   "source": [
    "total_appointments_having_handicap = float(df[df.Handicap == 'Yes']['Handicap'].count()) \n",
    "total_appointments_having_handicap_no_show = float(df[(df.Handicap == 'Yes') & (df.NoShow == 'Yes')]['Handicap'].count())\n",
    "percent_of_appointments_having_handicap_no_show = (total_appointments_having_handicap_no_show/total_appointments_having_handicap)*100\n",
    "total_appointments_not_having_handicap = float(df[df.Handicap == 'No']['Handicap'].count())\n",
    "total_appointments_not_having_handicap_no_show = float(df[(df.Handicap == 'No') & (df.NoShow == 'Yes')]['Handicap'].count())\n",
    "percent_of_appointments_not_having_handicap_no_show = (total_appointments_not_having_handicap_no_show/total_appointments_not_having_handicap)*100\n",
    "print \"Percentage of patients that are handicap and didn't show up: {}\".format(percent_of_appointments_having_handicap_no_show)\n",
    "print \"Percentage of patients that aren't handicap and didn't show up: {}\".format(percent_of_appointments_not_having_handicap_no_show)"
   ]
  },
  {
   "cell_type": "markdown",
   "metadata": {},
   "source": [
    "* From the above result it seems that the patients that are handicap have more tendency to show up at the apppointment than the patients that aren't handicap."
   ]
  },
  {
   "cell_type": "markdown",
   "metadata": {},
   "source": [
    "### j) SMS alert recieved"
   ]
  },
  {
   "cell_type": "code",
   "execution_count": 20,
   "metadata": {},
   "outputs": [
    {
     "name": "stdout",
     "output_type": "stream",
     "text": [
      "Percentage of patients that recieved sms and didn't show up: 27.5753220033\n",
      "Percentage of patients that didn't recieved sms and didn't show up: 16.7008715584\n"
     ]
    }
   ],
   "source": [
    "total_appointments_recieved_sms = float(df[df.SMSRecieved == 'Yes']['SMSRecieved'].count()) \n",
    "total_appointments_recieved_sms_no_show = float(df[(df.SMSRecieved == 'Yes') & (df.NoShow == 'Yes')]['SMSRecieved'].count())\n",
    "percent_of_appointments_recieved_sms_no_show = (total_appointments_recieved_sms_no_show/total_appointments_recieved_sms)*100\n",
    "total_appointments_not_recieved_sms = float(df[df.SMSRecieved == 'No']['SMSRecieved'].count())\n",
    "total_appointments_not_recieved_sms_no_show = float(df[(df.SMSRecieved == 'No') & (df.NoShow == 'Yes')]['SMSRecieved'].count())\n",
    "percent_of_appointments_not_recieved_sms_no_show = (total_appointments_not_recieved_sms_no_show/total_appointments_not_recieved_sms)*100\n",
    "print \"Percentage of patients that recieved sms and didn't show up: {}\".format(percent_of_appointments_recieved_sms_no_show)\n",
    "print \"Percentage of patients that didn't recieved sms and didn't show up: {}\".format(percent_of_appointments_not_recieved_sms_no_show)"
   ]
  },
  {
   "cell_type": "markdown",
   "metadata": {},
   "source": [
    "* From the above result it seems that the patients that didn't recieve sms alert have more tendency to show up at the apppointment than the patients that did recieve sms alert."
   ]
  },
  {
   "cell_type": "markdown",
   "metadata": {},
   "source": [
    "<a id='rq2'></a>\n",
    "### Research Question 2  (Show a visulaization for the dataset.)"
   ]
  },
  {
   "cell_type": "markdown",
   "metadata": {},
   "source": [
    "* I will show a histogram of the dataset with respect to Day of the week and I will find whether more number of appointments are made on weekdays  or weekends."
   ]
  },
  {
   "cell_type": "code",
   "execution_count": 30,
   "metadata": {},
   "outputs": [
    {
     "data": {
      "text/plain": [
       "Text(0,0.5,u'Frequency / No of appointments')"
      ]
     },
     "execution_count": 30,
     "metadata": {},
     "output_type": "execute_result"
    },
    {
     "data": {
      "image/png": "[encoded data removed]",
      "text/plain": [
       "<matplotlib.figure.Figure at 0x7f0e3a2e2990>"
      ]
     },
     "metadata": {},
     "output_type": "display_data"
    }
   ],
   "source": [
    "ax = df.DayofTheWeek.hist()\n",
    "# set title and axis labels\n",
    "plt.suptitle('Frequency distribution of weekdays', x=0.5, y=1.05, ha='center', fontsize='xx-large')\n",
    "# Set the x-axis label\n",
    "ax.set_xlabel(\"Days of the week\")\n",
    "# Set the y-axis label\n",
    "ax.set_ylabel(\"Frequency / No of appointments\")"
   ]
  },
  {
   "cell_type": "markdown",
   "metadata": {},
   "source": [
    "* from the above Histogram it is clear that more number of appointments are made on weekdays than weekends."
   ]
  },
  {
   "cell_type": "markdown",
   "metadata": {},
   "source": [
    "<a id='conclusions'></a>\n",
    "## Conclusions\n",
    "\n",
    "#### The above analysis can be concluded as:\n",
    "\n",
    "> Gender and Alcoholism does not play a role in determining whether a patient is likely to turn up for their future appointments or not.\n",
    "\n",
    "> All other features seem to play an important role in determining whether a patient is likely to turn up for their future appointments or not.\n",
    "\n",
    "> LIMITATIONS: The dataset is spread over April, May and June and therefore it doesn't provide a representative sample for predicting whether a patient is likely to not show up on a date outside of those days. If the dataset would be spread over all the months in a year, the results would be different. Many features like employment type (business / service), income, etc also play role in predicting whether a patient is likely to show up or not. "
   ]
  }
 ],
 "metadata": {
  "kernelspec": {
   "display_name": "Python 2",
   "language": "python",
   "name": "python2"
  },
  "language_info": {
   "codemirror_mode": {
    "name": "ipython",
    "version": 2
   },
   "file_extension": ".py",
   "mimetype": "text/x-python",
   "name": "python",
   "nbconvert_exporter": "python",
   "pygments_lexer": "ipython2",
   "version": "2.7.14"
  }
 },
 "nbformat": 4,
 "nbformat_minor": 2
}
